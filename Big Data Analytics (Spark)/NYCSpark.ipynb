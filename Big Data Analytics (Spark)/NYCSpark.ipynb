{
 "cells": [
  {
   "cell_type": "code",
   "execution_count": 1,
   "metadata": {},
   "outputs": [],
   "source": [
    "# import libs\n",
    "import pandas as pd\n",
    "import matplotlib.pyplot as plt\n",
    "from pyspark.sql.functions import when,lit, count,desc,countDistinct, col, when\n",
    "#Pyspark session\n",
    "from pyspark.sql import SparkSession\n",
    "spark = SparkSession \\\n",
    "    .builder \\\n",
    "    .appName(\"Exploratory Analysis\") \\\n",
    "    .getOrCreate()"
   ]
  },
  {
   "cell_type": "code",
   "execution_count": 2,
   "metadata": {},
   "outputs": [
    {
     "data": {
      "text/plain": [
       "DataFrame[Summons Number: bigint, Plate ID: string, Registration State: string, Issue Date: timestamp, Violation Code: int, Vehicle Body Type: string, Vehicle Make: string, Violation Precinct: int, Issuer Precinct: int, Violation Time: string]"
      ]
     },
     "execution_count": 2,
     "metadata": {},
     "output_type": "execute_result"
    }
   ],
   "source": [
    "#loading file\n",
    "parking_data = spark.read.format(\"csv\").option(\"header\", \"true\").option(\"inferSchema\", \"true\").load('/common_folder/nyc_parking/Parking_Violations_Issued_-_Fiscal_Year_2017.csv')\n",
    "parking_data"
   ]
  },
  {
   "cell_type": "code",
   "execution_count": 3,
   "metadata": {},
   "outputs": [
    {
     "name": "stdout",
     "output_type": "stream",
     "text": [
      "+--------------+--------+------------------+-------------------+--------------+-----------------+------------+------------------+---------------+--------------+\n",
      "|Summons Number|Plate ID|Registration State|         Issue Date|Violation Code|Vehicle Body Type|Vehicle Make|Violation Precinct|Issuer Precinct|Violation Time|\n",
      "+--------------+--------+------------------+-------------------+--------------+-----------------+------------+------------------+---------------+--------------+\n",
      "|    5092469481| GZH7067|                NY|2016-07-10 00:00:00|             7|             SUBN|       TOYOT|                 0|              0|         0143A|\n",
      "|    5092451658| GZH7067|                NY|2016-07-08 00:00:00|             7|             SUBN|       TOYOT|                 0|              0|         0400P|\n",
      "|    4006265037| FZX9232|                NY|2016-08-23 00:00:00|             5|             SUBN|        FORD|                 0|              0|         0233P|\n",
      "|    8478629828| 66623ME|                NY|2017-06-14 00:00:00|            47|             REFG|       MITSU|                14|             14|         1120A|\n",
      "|    7868300310| 37033JV|                NY|2016-11-21 00:00:00|            69|             DELV|       INTER|                13|             13|         0555P|\n",
      "|    5096917368| FZD8593|                NY|2017-06-13 00:00:00|             7|             SUBN|       ME/BE|                 0|              0|         0852P|\n",
      "|    1413609545|  X20DCM|                NJ|2016-08-03 00:00:00|            40|              SDN|       TOYOT|                71|             71|         0215A|\n",
      "|    4628525523|  326SF9|                MA|2016-12-21 00:00:00|            36|               UT|         BMW|                 0|              0|         0758A|\n",
      "|    4627113330| HCA5464|                NY|2016-11-21 00:00:00|            36|             SUBN|       DODGE|                 0|              0|         1005A|\n",
      "|    4006478550| VAD7274|                VA|2016-10-05 00:00:00|             5|               4D|         BMW|                 0|              0|         0845A|\n",
      "+--------------+--------+------------------+-------------------+--------------+-----------------+------------+------------------+---------------+--------------+\n",
      "only showing top 10 rows\n",
      "\n"
     ]
    }
   ],
   "source": [
    "#details of Parking NYC data set\n",
    "parking_data.show(10)"
   ]
  },
  {
   "cell_type": "code",
   "execution_count": 4,
   "metadata": {},
   "outputs": [
    {
     "name": "stdout",
     "output_type": "stream",
     "text": [
      "+-------+--------------------+--------+------------------+------------------+------------------+------------------+------------------+-----------------+-----------------+\n",
      "|summary|      Summons Number|Plate ID|Registration State|    Violation Code| Vehicle Body Type|      Vehicle Make|Violation Precinct|  Issuer Precinct|   Violation Time|\n",
      "+-------+--------------------+--------+------------------+------------------+------------------+------------------+------------------+-----------------+-----------------+\n",
      "|  count|            10803028|10803028|          10803028|          10803028|          10803028|          10803028|          10803028|         10803028|         10803028|\n",
      "|   mean|6.8174470290656595E9|Infinity|              99.0|34.599430455979565|3.9258887134586864| 6519.974025974026| 45.01216260848347|46.82931211508477|909.2857142857143|\n",
      "| stddev|2.3202339623282285E9|     NaN|               0.0|19.359868716323483|0.5013415469252523|18091.257389147086|40.552560268435805|62.66703577269467|791.8453853409226|\n",
      "|    min|          1002884949|   #1MOM|                99|                 0|                00|             ,FREI|                 0|                0|            .240P|\n",
      "|    max|          8585600044|       ~|                WY|                99|               nan|               nan|               933|              997|              nan|\n",
      "+-------+--------------------+--------+------------------+------------------+------------------+------------------+------------------+-----------------+-----------------+\n",
      "\n"
     ]
    }
   ],
   "source": [
    "# describe parking data\n",
    "parking_data.describe().show()"
   ]
  },
  {
   "cell_type": "code",
   "execution_count": 5,
   "metadata": {},
   "outputs": [
    {
     "name": "stdout",
     "output_type": "stream",
     "text": [
      "root\n",
      " |-- Summons Number: long (nullable = true)\n",
      " |-- Plate ID: string (nullable = true)\n",
      " |-- Registration State: string (nullable = true)\n",
      " |-- Issue Date: timestamp (nullable = true)\n",
      " |-- Violation Code: integer (nullable = true)\n",
      " |-- Vehicle Body Type: string (nullable = true)\n",
      " |-- Vehicle Make: string (nullable = true)\n",
      " |-- Violation Precinct: integer (nullable = true)\n",
      " |-- Issuer Precinct: integer (nullable = true)\n",
      " |-- Violation Time: string (nullable = true)\n",
      "\n"
     ]
    }
   ],
   "source": [
    "# check Schema\n",
    "parking_data.printSchema()"
   ]
  },
  {
   "cell_type": "markdown",
   "metadata": {},
   "source": [
    "# Data Cleaning"
   ]
  },
  {
   "cell_type": "code",
   "execution_count": 6,
   "metadata": {},
   "outputs": [
    {
     "data": {
      "text/plain": [
       "10803028"
      ]
     },
     "execution_count": 6,
     "metadata": {},
     "output_type": "execute_result"
    }
   ],
   "source": [
    "# Drop na\n",
    "parking_data=parking_data.dropna()\n",
    "parking_data.count()"
   ]
  },
  {
   "cell_type": "code",
   "execution_count": 7,
   "metadata": {},
   "outputs": [
    {
     "data": {
      "text/plain": [
       "10803028"
      ]
     },
     "execution_count": 7,
     "metadata": {},
     "output_type": "execute_result"
    }
   ],
   "source": [
    "# Drop duplicates in parking Nyc dataset\n",
    "parking_data=parking_data.dropDuplicates()\n",
    "parking_data.count()"
   ]
  },
  {
   "cell_type": "code",
   "execution_count": 8,
   "metadata": {},
   "outputs": [
    {
     "data": {
      "text/plain": [
       "10803028"
      ]
     },
     "execution_count": 8,
     "metadata": {},
     "output_type": "execute_result"
    }
   ],
   "source": [
    "#Number of Summons\n",
    "parking_data.select('Summons Number').distinct().count()"
   ]
  },
  {
   "cell_type": "code",
   "execution_count": 9,
   "metadata": {},
   "outputs": [
    {
     "name": "stdout",
     "output_type": "stream",
     "text": [
      "+--------------+--------+------------------+-------------------+--------------+-----------------+------------+------------------+---------------+--------------+\n",
      "|Summons_Number|Plate_ID|Registration_State|         Issue_Date|Violation_Code|Vehicle_Body_Type|Vehicle_Make|Violation_Precinct|Issuer_Precinct|Violation_Time|\n",
      "+--------------+--------+------------------+-------------------+--------------+-----------------+------------+------------------+---------------+--------------+\n",
      "|    1412807402| HCA1864|                NY|2016-08-23 00:00:00|            21|              P-U|       DODGE|                70|              0|         0100A|\n",
      "|    4630370353| HEJ9882|                NY|2017-02-06 00:00:00|            36|             SUBN|        JEEP|                 0|              0|         0100P|\n",
      "|    4631509016| HFL8696|                NY|2017-03-09 00:00:00|            36|             SUBN|       NISSA|                 0|              0|         0100P|\n",
      "|    4633332156|T711205C|                NY|2017-05-03 00:00:00|            36|             4DSD|        FORD|                 0|              0|         0100P|\n",
      "|    4626854230| FJS9817|                NY|2016-11-16 00:00:00|            36|             4DSD|       NISSA|                 0|              0|         0101P|\n",
      "|    4628465435| GVD2526|                NY|2016-12-19 00:00:00|            36|             2DSD|       HONDA|                 0|              0|         0101P|\n",
      "|    4625627023| GWR5326|                NY|2016-10-26 00:00:00|            36|             SUBN|         GMC|                 0|              0|         0101P|\n",
      "|    4627519680| HDU1649|                NY|2016-11-28 00:00:00|            36|             4DSD|       INFIN|                 0|              0|         0101P|\n",
      "|    4635555100| HGV7499|                NY|2017-06-27 00:00:00|            36|             4DSD|         BMW|                 0|              0|         0101P|\n",
      "|    4630533710| HMR4152|                NY|2017-02-03 00:00:00|            36|             SUBN|        JEEP|                 0|              0|         0101P|\n",
      "+--------------+--------+------------------+-------------------+--------------+-----------------+------------+------------------+---------------+--------------+\n",
      "only showing top 10 rows\n",
      "\n"
     ]
    }
   ],
   "source": [
    "#creating data frame for in parking Nyc dataset\n",
    "parking_data= parking_data.toDF(*(c.replace(' ', '_') for c in parking_data.columns))\n",
    "parking_data.show(10)"
   ]
  },
  {
   "cell_type": "code",
   "execution_count": 10,
   "metadata": {},
   "outputs": [],
   "source": [
    "# create table\n",
    "parking_data.createOrReplaceTempView(\"parkingData\")"
   ]
  },
  {
   "cell_type": "code",
   "execution_count": 11,
   "metadata": {},
   "outputs": [
    {
     "name": "stdout",
     "output_type": "stream",
     "text": [
      "+----------+\n",
      "|NULL_COUNT|\n",
      "+----------+\n",
      "|         0|\n",
      "+----------+\n",
      "\n"
     ]
    }
   ],
   "source": [
    "# Check Value\n",
    "spark.sql(\"SELECT COUNT(*) AS NULL_COUNT FROM parkingData WHERE Registration_State IS NULL\").show()"
   ]
  },
  {
   "cell_type": "code",
   "execution_count": 12,
   "metadata": {},
   "outputs": [
    {
     "name": "stdout",
     "output_type": "stream",
     "text": [
      "+----------+\n",
      "|NULL_COUNT|\n",
      "+----------+\n",
      "|         0|\n",
      "+----------+\n",
      "\n"
     ]
    }
   ],
   "source": [
    "# Check Value\n",
    "spark.sql(\"SELECT COUNT(*) AS NULL_COUNT FROM parkingData WHERE Plate_ID IS NULL\").show()"
   ]
  },
  {
   "cell_type": "code",
   "execution_count": 13,
   "metadata": {},
   "outputs": [
    {
     "name": "stdout",
     "output_type": "stream",
     "text": [
      "+---------------------+\n",
      "|Number_of_Null_Values|\n",
      "+---------------------+\n",
      "|                    0|\n",
      "+---------------------+\n",
      "\n"
     ]
    }
   ],
   "source": [
    "# Check Nulls\n",
    "spark.sql(\"Select count(*) as Number_of_Null_Values from parkingData where Summons_Number is NULL or Plate_ID is NULL or Registration_State is NULL or Issue_Date is NULL or Violation_Code is NULL or Vehicle_Body_Type is NULL or Vehicle_Make is NULL or Violation_Precinct is NULL or Issuer_Precinct is NUll or Violation_Time is NULL \").show()"
   ]
  },
  {
   "cell_type": "code",
   "execution_count": 14,
   "metadata": {},
   "outputs": [
    {
     "name": "stdout",
     "output_type": "stream",
     "text": [
      "+--------------+--------+------------------+-------------------+--------------+-----------------+------------+------------------+---------------+--------------+\n",
      "|Summons_Number|Plate_ID|Registration_State|         Issue_Date|Violation_Code|Vehicle_Body_Type|Vehicle_Make|Violation_Precinct|Issuer_Precinct|Violation_Time|\n",
      "+--------------+--------+------------------+-------------------+--------------+-----------------+------------+------------------+---------------+--------------+\n",
      "|    5094338420|  581691|                NY|2016-11-18 00:00:00|             7|             SUBN|         KIA|                 0|              0|         0100P|\n",
      "|    4625534045| GPV3977|                NY|2016-10-20 00:00:00|            36|             SUBN|       NISSA|                 0|              0|         0100P|\n",
      "|    4633162032| HFL8081|                NY|2017-04-28 00:00:00|            36|             4DSD|       DODGE|                 0|              0|         0100P|\n",
      "|    5093558291| HJE5292|                NY|2016-09-18 00:00:00|             7|             SUBN|        JEEP|                 0|              0|         0100P|\n",
      "|    4631755246| HKB8425|                NY|2017-03-16 00:00:00|            36|             SUBN|        FORD|                 0|              0|         0100P|\n",
      "|    4626761033| HLP6287|                NY|2016-11-14 00:00:00|            36|             SUBN|        FORD|                 0|              0|         0100P|\n",
      "|    5096016559| GHV8755|                NY|2017-04-15 00:00:00|             7|             4DSD|       HONDA|                 0|              0|         0101A|\n",
      "|    4631728085| FAP8420|                NY|2017-03-13 00:00:00|            36|             4DSD|       ME/BE|                 0|              0|         0101P|\n",
      "|    1421298697| 68215MJ|                NY|2017-05-01 00:00:00|            21|             DELV|       MITSU|                69|              0|         0102A|\n",
      "|    1412110634| HHM2251|                NY|2016-08-19 00:00:00|            21|             SUBN|       NISSA|                 0|              0|         0102A|\n",
      "+--------------+--------+------------------+-------------------+--------------+-----------------+------------+------------------+---------------+--------------+\n",
      "\n"
     ]
    }
   ],
   "source": [
    "#writing SQL query\n",
    "spark.sql('Select * from parkingData limit 10').show()"
   ]
  },
  {
   "cell_type": "markdown",
   "metadata": {},
   "source": [
    "# Examine the data"
   ]
  },
  {
   "cell_type": "code",
   "execution_count": 15,
   "metadata": {},
   "outputs": [
    {
     "name": "stdout",
     "output_type": "stream",
     "text": [
      "+----+-------------+\n",
      "|year|no_of_tickets|\n",
      "+----+-------------+\n",
      "|1972|            2|\n",
      "|1973|            2|\n",
      "|1974|            1|\n",
      "|1976|            1|\n",
      "|1977|            1|\n",
      "|1984|            1|\n",
      "|1985|            1|\n",
      "|1990|            2|\n",
      "|1991|            3|\n",
      "|1994|            1|\n",
      "|1996|            1|\n",
      "|1997|            1|\n",
      "|2000|          185|\n",
      "|2001|            2|\n",
      "|2002|            1|\n",
      "|2003|            1|\n",
      "|2004|            2|\n",
      "|2005|            1|\n",
      "|2006|            8|\n",
      "|2007|           18|\n",
      "|2008|            4|\n",
      "|2009|            3|\n",
      "|2010|           48|\n",
      "|2011|           22|\n",
      "|2012|           87|\n",
      "|2013|           70|\n",
      "|2014|          120|\n",
      "|2015|          419|\n",
      "|2016|      5368391|\n",
      "|2017|      5431918|\n",
      "|2018|         1057|\n",
      "|2019|          472|\n",
      "|2020|           22|\n",
      "|2021|           22|\n",
      "|2022|            4|\n",
      "|2023|            5|\n",
      "|2024|            3|\n",
      "|2025|            6|\n",
      "|2026|           24|\n",
      "|2027|           50|\n",
      "|2028|            8|\n",
      "|2029|            2|\n",
      "|2030|           12|\n",
      "|2031|            5|\n",
      "|2033|            2|\n",
      "|2036|            1|\n",
      "|2041|            1|\n",
      "|2047|            2|\n",
      "|2053|            1|\n",
      "|2060|            2|\n",
      "|2061|            1|\n",
      "|2062|            2|\n",
      "|2063|            2|\n",
      "|2068|            1|\n",
      "|2069|            4|\n",
      "+----+-------------+\n",
      "\n"
     ]
    }
   ],
   "source": [
    "# Total number of tickets for each year\n",
    "ticket_PerYear = spark.sql(\"select year(Issue_Date) as year, count(Summons_Number) as no_of_tickets from parkingData group by year order by year\")\n",
    "ticket_PerYear.show(100)"
   ]
  },
  {
   "cell_type": "code",
   "execution_count": 16,
   "metadata": {},
   "outputs": [
    {
     "name": "stdout",
     "output_type": "stream",
     "text": [
      "+-------------+\n",
      "|no_of_tickets|\n",
      "+-------------+\n",
      "|     10803028|\n",
      "+-------------+\n",
      "\n"
     ]
    }
   ],
   "source": [
    "spark.sql(\"select count(Summons_Number) as no_of_tickets from parkingData\").show()"
   ]
  },
  {
   "cell_type": "code",
   "execution_count": 17,
   "metadata": {},
   "outputs": [
    {
     "data": {
      "text/plain": [
       "5431918"
      ]
     },
     "execution_count": 17,
     "metadata": {},
     "output_type": "execute_result"
    }
   ],
   "source": [
    "# Filtering only 2017 data\n",
    "parking_data.createOrReplaceTempView(\"parkingData2017\")\n",
    "parking_data=spark.sql(\"select * from parkingData2017 where year(TO_DATE(CAST(UNIX_TIMESTAMP(Issue_Date,'MM/dd/yyyy') AS TIMESTAMP))) = 2017 \")\n",
    "parking_data.count()"
   ]
  },
  {
   "cell_type": "markdown",
   "metadata": {},
   "source": [
    "1. Total number of tickets for the year is 5431918"
   ]
  },
  {
   "cell_type": "code",
   "execution_count": 18,
   "metadata": {},
   "outputs": [],
   "source": [
    "parking_data.createOrReplaceTempView(\"parkingData2017\")"
   ]
  },
  {
   "cell_type": "markdown",
   "metadata": {},
   "source": [
    "Q2. Find out the number of unique states from where the cars that got parking tickets came."
   ]
  },
  {
   "cell_type": "code",
   "execution_count": 19,
   "metadata": {},
   "outputs": [
    {
     "data": {
      "text/plain": [
       "65"
      ]
     },
     "execution_count": 19,
     "metadata": {},
     "output_type": "execute_result"
    }
   ],
   "source": [
    "dataQ2 = spark.sql(\"SELECT distinct(Registration_State), Count(*) as Number_of_Records from parkingData2017 group by Registration_State order by Number_of_Records desc\")\n",
    "dataQ2.count()"
   ]
  },
  {
   "cell_type": "code",
   "execution_count": 20,
   "metadata": {},
   "outputs": [
    {
     "name": "stdout",
     "output_type": "stream",
     "text": [
      "+------------------+-----------------+\n",
      "|Registration_State|Number_of_Records|\n",
      "+------------------+-----------------+\n",
      "|                NY|          4273951|\n",
      "|                NJ|           475825|\n",
      "|                PA|           140286|\n",
      "|                CT|            70403|\n",
      "|                FL|            69468|\n",
      "|                IN|            45525|\n",
      "|                MA|            38941|\n",
      "|                VA|            34367|\n",
      "|                MD|            30213|\n",
      "|                NC|            27152|\n",
      "|                TX|            18827|\n",
      "|                IL|            18666|\n",
      "|                GA|            17537|\n",
      "|                99|            16055|\n",
      "|                AZ|            12379|\n",
      "|                OH|            12281|\n",
      "|                CA|            12153|\n",
      "|                ME|            10806|\n",
      "|                SC|            10395|\n",
      "|                MN|            10083|\n",
      "|                OK|             9088|\n",
      "|                TN|             8514|\n",
      "|                DE|             7905|\n",
      "|                MI|             7231|\n",
      "|                RI|             5814|\n",
      "|                NH|             4119|\n",
      "|                VT|             3683|\n",
      "|                AL|             3178|\n",
      "|                WA|             3052|\n",
      "|                OR|             2622|\n",
      "|                MO|             2483|\n",
      "|                ON|             2460|\n",
      "|                WI|             2127|\n",
      "|                QB|             1998|\n",
      "|                IA|             1938|\n",
      "|                DC|             1929|\n",
      "|                CO|             1841|\n",
      "|                KY|             1795|\n",
      "|                DP|             1794|\n",
      "|                LA|             1689|\n",
      "|                MS|             1582|\n",
      "|                WV|             1265|\n",
      "|                AR|              994|\n",
      "|                SD|              859|\n",
      "|                NM|              792|\n",
      "|                ID|              763|\n",
      "|                NV|              725|\n",
      "|                KS|              706|\n",
      "|                NE|              704|\n",
      "|                UT|              561|\n",
      "|                MT|              505|\n",
      "|                GV|              348|\n",
      "|                NS|              322|\n",
      "|                AK|              298|\n",
      "|                ND|              254|\n",
      "|                WY|              188|\n",
      "|                HI|              156|\n",
      "|                AB|               79|\n",
      "|                PE|               61|\n",
      "|                NB|               57|\n",
      "|                BC|               54|\n",
      "|                PR|               38|\n",
      "|                MB|               17|\n",
      "|                SK|                9|\n",
      "|                FO|                8|\n",
      "+------------------+-----------------+\n",
      "\n"
     ]
    }
   ],
   "source": [
    "dataQ2.show(72)"
   ]
  },
  {
   "cell_type": "code",
   "execution_count": 21,
   "metadata": {},
   "outputs": [
    {
     "name": "stdout",
     "output_type": "stream",
     "text": [
      "+-----------------+\n",
      "|Number_of_Records|\n",
      "+-----------------+\n",
      "|          5431918|\n",
      "+-----------------+\n",
      "\n"
     ]
    }
   ],
   "source": [
    "spark.sql(\"SELECT Count(*) as Number_of_Records from parkingData2017\").show()"
   ]
  },
  {
   "cell_type": "code",
   "execution_count": 22,
   "metadata": {},
   "outputs": [],
   "source": [
    "parking_data=parking_data.withColumn('Registration_State',when(parking_data[\"Registration_State\"]==99,lit('NY')).otherwise(parking_data[\"Registration_State\"]))\n",
    "parking_data.createOrReplaceTempView(\"parkingData2017\")"
   ]
  },
  {
   "cell_type": "code",
   "execution_count": 23,
   "metadata": {},
   "outputs": [],
   "source": [
    "# Checking Again\n",
    "state = spark.sql(\"SELECT Registration_State, Count(*) as Ticket_Frequency from parkingData2017 group by Registration_State order by Ticket_Frequency desc\")"
   ]
  },
  {
   "cell_type": "code",
   "execution_count": 24,
   "metadata": {},
   "outputs": [
    {
     "data": {
      "text/plain": [
       "64"
      ]
     },
     "execution_count": 24,
     "metadata": {},
     "output_type": "execute_result"
    }
   ],
   "source": [
    "state.count()"
   ]
  },
  {
   "cell_type": "code",
   "execution_count": 25,
   "metadata": {},
   "outputs": [
    {
     "name": "stdout",
     "output_type": "stream",
     "text": [
      "+------------------+----------------+\n",
      "|Registration_State|Ticket_Frequency|\n",
      "+------------------+----------------+\n",
      "|                NY|         4290006|\n",
      "|                NJ|          475825|\n",
      "|                PA|          140286|\n",
      "|                CT|           70403|\n",
      "|                FL|           69468|\n",
      "|                IN|           45525|\n",
      "|                MA|           38941|\n",
      "|                VA|           34367|\n",
      "|                MD|           30213|\n",
      "|                NC|           27152|\n",
      "|                TX|           18827|\n",
      "|                IL|           18666|\n",
      "|                GA|           17537|\n",
      "|                AZ|           12379|\n",
      "|                OH|           12281|\n",
      "|                CA|           12153|\n",
      "|                ME|           10806|\n",
      "|                SC|           10395|\n",
      "|                MN|           10083|\n",
      "|                OK|            9088|\n",
      "|                TN|            8514|\n",
      "|                DE|            7905|\n",
      "|                MI|            7231|\n",
      "|                RI|            5814|\n",
      "|                NH|            4119|\n",
      "|                VT|            3683|\n",
      "|                AL|            3178|\n",
      "|                WA|            3052|\n",
      "|                OR|            2622|\n",
      "|                MO|            2483|\n",
      "|                ON|            2460|\n",
      "|                WI|            2127|\n",
      "|                QB|            1998|\n",
      "|                IA|            1938|\n",
      "|                DC|            1929|\n",
      "|                CO|            1841|\n",
      "|                KY|            1795|\n",
      "|                DP|            1794|\n",
      "|                LA|            1689|\n",
      "|                MS|            1582|\n",
      "|                WV|            1265|\n",
      "|                AR|             994|\n",
      "|                SD|             859|\n",
      "|                NM|             792|\n",
      "|                ID|             763|\n",
      "|                NV|             725|\n",
      "|                KS|             706|\n",
      "|                NE|             704|\n",
      "|                UT|             561|\n",
      "|                MT|             505|\n",
      "|                GV|             348|\n",
      "|                NS|             322|\n",
      "|                AK|             298|\n",
      "|                ND|             254|\n",
      "|                WY|             188|\n",
      "|                HI|             156|\n",
      "|                AB|              79|\n",
      "|                PE|              61|\n",
      "|                NB|              57|\n",
      "|                BC|              54|\n",
      "|                PR|              38|\n",
      "|                MB|              17|\n",
      "|                SK|               9|\n",
      "|                FO|               8|\n",
      "+------------------+----------------+\n",
      "\n"
     ]
    }
   ],
   "source": [
    "state.show(70)"
   ]
  },
  {
   "cell_type": "markdown",
   "metadata": {},
   "source": [
    "2. Number of unique states from where the cars that got parking tickets came is 64"
   ]
  },
  {
   "cell_type": "markdown",
   "metadata": {},
   "source": [
    "# Aggregation tasks"
   ]
  },
  {
   "cell_type": "markdown",
   "metadata": {},
   "source": [
    "How often does each violation code occur? Display the frequency of the top five violation codes."
   ]
  },
  {
   "cell_type": "code",
   "execution_count": 26,
   "metadata": {},
   "outputs": [
    {
     "name": "stdout",
     "output_type": "stream",
     "text": [
      "+--------------+-------------+\n",
      "|Violation_Code|no_of_tickets|\n",
      "+--------------+-------------+\n",
      "|            21|       768087|\n",
      "|            36|       662765|\n",
      "|            38|       542079|\n",
      "|            14|       476664|\n",
      "|            20|       319646|\n",
      "|            46|       312330|\n",
      "|            37|       293147|\n",
      "|            40|       277184|\n",
      "|            71|       263393|\n",
      "|             7|       210176|\n",
      "|            19|       149062|\n",
      "|            70|       144647|\n",
      "|            69|        96914|\n",
      "|            31|        80593|\n",
      "|            16|        74790|\n",
      "|            47|        65440|\n",
      "|            74|        58939|\n",
      "|            50|        53749|\n",
      "|             5|        48081|\n",
      "|            48|        40987|\n",
      "|            84|        40943|\n",
      "|            24|        38460|\n",
      "|            17|        38449|\n",
      "|            51|        32764|\n",
      "|            42|        32008|\n",
      "|             9|        28685|\n",
      "|            78|        26776|\n",
      "|            10|        25923|\n",
      "|            68|        25036|\n",
      "|            98|        23952|\n",
      "|            53|        19488|\n",
      "|            82|        17289|\n",
      "|            66|        13142|\n",
      "|            13|        11673|\n",
      "|            18|        10188|\n",
      "|            23|         9697|\n",
      "|            85|         9316|\n",
      "|            67|         7381|\n",
      "|            64|         6764|\n",
      "|            45|         6107|\n",
      "|            77|         6081|\n",
      "|            11|         5592|\n",
      "|            61|         5524|\n",
      "|            72|         5519|\n",
      "|            79|         5208|\n",
      "|            83|         5111|\n",
      "|            75|         4345|\n",
      "|            60|         3691|\n",
      "|            27|         3039|\n",
      "|            62|         2810|\n",
      "|            41|         2621|\n",
      "|            89|         2325|\n",
      "|            80|         2084|\n",
      "|            73|         2081|\n",
      "|            35|         2034|\n",
      "|            99|         1439|\n",
      "|             8|         1405|\n",
      "|            39|         1177|\n",
      "|            52|         1001|\n",
      "|             1|          674|\n",
      "|            26|          660|\n",
      "|            30|          553|\n",
      "|             4|          521|\n",
      "|            49|          477|\n",
      "|            91|          433|\n",
      "|             3|          407|\n",
      "|            56|          367|\n",
      "|            63|          250|\n",
      "|             0|          227|\n",
      "|            94|          199|\n",
      "|             6|          192|\n",
      "|            43|          174|\n",
      "|            59|          132|\n",
      "|            25|          115|\n",
      "|            55|           89|\n",
      "|            95|           87|\n",
      "|            22|           81|\n",
      "|             2|           77|\n",
      "|            97|           55|\n",
      "|            12|           53|\n",
      "|            96|           41|\n",
      "|            29|           35|\n",
      "|            33|           28|\n",
      "|            90|           27|\n",
      "|            65|           26|\n",
      "|            92|           20|\n",
      "|            76|           18|\n",
      "|            32|           14|\n",
      "|            81|           14|\n",
      "|            58|           13|\n",
      "|            34|           11|\n",
      "|            88|           10|\n",
      "|            93|            8|\n",
      "|            15|            7|\n",
      "|            86|            6|\n",
      "|            28|            5|\n",
      "|            44|            4|\n",
      "|            54|            3|\n",
      "|            57|            3|\n",
      "|            87|            1|\n",
      "+--------------+-------------+\n",
      "\n"
     ]
    }
   ],
   "source": [
    "# Frequency of each violation code\n",
    "ViolationCodeCount = parking_data.select(\"Violation_Code\")\\\n",
    "  .groupBy(\"Violation_Code\")\\\n",
    ".agg(count(\"Violation_Code\")\\\n",
    ".alias(\"no_of_tickets\"))\\\n",
    ".sort(desc(\"no_of_tickets\"))\n",
    "\n",
    "ViolationCodeCount.show(100)"
   ]
  },
  {
   "cell_type": "code",
   "execution_count": 27,
   "metadata": {},
   "outputs": [
    {
     "name": "stdout",
     "output_type": "stream",
     "text": [
      "+--------------+-------------+\n",
      "|Violation_Code|no_of_tickets|\n",
      "+--------------+-------------+\n",
      "|            21|       768087|\n",
      "|            36|       662765|\n",
      "|            38|       542079|\n",
      "|            14|       476664|\n",
      "|            20|       319646|\n",
      "+--------------+-------------+\n",
      "only showing top 5 rows\n",
      "\n"
     ]
    }
   ],
   "source": [
    "ViolationCodeCount.show(5)"
   ]
  },
  {
   "cell_type": "code",
   "execution_count": 28,
   "metadata": {},
   "outputs": [
    {
     "data": {
      "text/plain": [
       "<Figure size 432x288 with 0 Axes>"
      ]
     },
     "metadata": {},
     "output_type": "display_data"
    },
    {
     "data": {
      "image/png": "[encoded data removed]",
      "text/plain": [
       "<Figure size 432x288 with 1 Axes>"
      ]
     },
     "metadata": {},
     "output_type": "display_data"
    }
   ],
   "source": [
    "# Graph\n",
    "query = spark.sql(\"SELECT Violation_Code, Count(*) as Ticket_Frequency from parkingData2017 group by Violation_code order by Ticket_Frequency desc\")\n",
    "plot = query.toPandas()\n",
    "plt.clf()\n",
    "plot.head(5).plot(x='Violation_Code', y='Ticket_Frequency', kind='bar')\n",
    "plt.title(\"Top Violation Code\")\n",
    "plt.xlabel('Violation Code')\n",
    "plt.ylabel('Ticket Frequency')\n",
    "plt.show()"
   ]
  },
  {
   "cell_type": "markdown",
   "metadata": {},
   "source": [
    "Q2. How often does each 'vehicle body type' get a parking ticket? How about the 'vehicle make'?"
   ]
  },
  {
   "cell_type": "code",
   "execution_count": 29,
   "metadata": {},
   "outputs": [
    {
     "name": "stdout",
     "output_type": "stream",
     "text": [
      "+-----------------+----------------+\n",
      "|Vehicle_Body_Type|Ticket_Frequency|\n",
      "+-----------------+----------------+\n",
      "|             SUBN|         1883954|\n",
      "|             4DSD|         1547312|\n",
      "|              VAN|          724029|\n",
      "|             DELV|          358984|\n",
      "|              SDN|          194197|\n",
      "+-----------------+----------------+\n",
      "only showing top 5 rows\n",
      "\n"
     ]
    }
   ],
   "source": [
    "# vehicle Type\n",
    "vehicleType = spark.sql(\"SELECT Vehicle_Body_Type, count(*) as Ticket_Frequency from parkingData2017 group by Vehicle_Body_Type order by Ticket_Frequency desc\")\n",
    "vehicleType.show(5)"
   ]
  },
  {
   "cell_type": "code",
   "execution_count": 30,
   "metadata": {},
   "outputs": [
    {
     "name": "stdout",
     "output_type": "stream",
     "text": [
      "+------------+----------------+\n",
      "|Vehicle_Make|Ticket_Frequency|\n",
      "+------------+----------------+\n",
      "|        FORD|          636844|\n",
      "|       TOYOT|          605291|\n",
      "|       HONDA|          538884|\n",
      "|       NISSA|          462017|\n",
      "|       CHEVR|          356032|\n",
      "+------------+----------------+\n",
      "only showing top 5 rows\n",
      "\n"
     ]
    }
   ],
   "source": [
    "# Vehicle make\n",
    "vehicleMake = spark.sql(\"SELECT Vehicle_Make, count(*) as Ticket_Frequency from parkingData2017 group by Vehicle_Make order by Ticket_Frequency desc\")\n",
    "vehicleMake.show(5)"
   ]
  },
  {
   "cell_type": "markdown",
   "metadata": {},
   "source": [
    "Q3. A precinct is a police station that has a certain zone of the city under its command."
   ]
  },
  {
   "cell_type": "markdown",
   "metadata": {},
   "source": [
    "3.1 1.'Violation Precinct' (this is the precinct of the zone where the violation occurred). Using this, can you make any insights for parking violations in any specific areas of the city?"
   ]
  },
  {
   "cell_type": "code",
   "execution_count": 31,
   "metadata": {},
   "outputs": [
    {
     "name": "stdout",
     "output_type": "stream",
     "text": [
      "+------------------+----------------+\n",
      "|Violation_Precinct|Ticket_Frequency|\n",
      "+------------------+----------------+\n",
      "|                 0|          925596|\n",
      "|                19|          274445|\n",
      "|                14|          203553|\n",
      "|                 1|          174702|\n",
      "|                18|          169131|\n",
      "|               114|          147444|\n",
      "+------------------+----------------+\n",
      "only showing top 6 rows\n",
      "\n"
     ]
    }
   ],
   "source": [
    "# Violition Precinct\n",
    "ViolationPrecinct = spark.sql(\"SELECT Violation_Precinct, count(*) as Ticket_Frequency from parkingData2017 group by Violation_Precinct order by Ticket_Frequency desc\")\n",
    "ViolationPrecinct.show(6)"
   ]
  },
  {
   "cell_type": "markdown",
   "metadata": {},
   "source": [
    "Data is not collected properly as we can see the Precinct with highest frequency has not been recorded properly"
   ]
  },
  {
   "cell_type": "code",
   "execution_count": 32,
   "metadata": {},
   "outputs": [
    {
     "data": {
      "text/plain": [
       "<Figure size 432x288 with 0 Axes>"
      ]
     },
     "metadata": {},
     "output_type": "display_data"
    },
    {
     "data": {
      "image/png": "[encoded data removed]",
      "text/plain": [
       "<Figure size 432x288 with 1 Axes>"
      ]
     },
     "metadata": {},
     "output_type": "display_data"
    }
   ],
   "source": [
    "# plot Violations on the basis of Violation Precinct\n",
    "Crrect_Violation_Precinct_plot = ViolationPrecinct.toPandas()\n",
    "plt.clf()\n",
    "Crrect_Violation_Precinct_plot[Crrect_Violation_Precinct_plot.Violation_Precinct!=0].head(5).plot(x='Violation_Precinct', y='Ticket_Frequency', kind='bar')\n",
    "plt.title(\"Violations Details  Based on  Violation Precinct\")\n",
    "plt.xlabel('Details of Vehicle Precinct')\n",
    "plt.ylabel('Details of Ticket Frequency')\n",
    "plt.show()"
   ]
  },
  {
   "cell_type": "markdown",
   "metadata": {},
   "source": [
    "Corerct Violations Precinct are : 19,14,1,18,114"
   ]
  },
  {
   "cell_type": "code",
   "execution_count": 33,
   "metadata": {},
   "outputs": [
    {
     "name": "stdout",
     "output_type": "stream",
     "text": [
      "+---------------+----------------+\n",
      "|Issuer_Precinct|Ticket_Frequency|\n",
      "+---------------+----------------+\n",
      "|              0|         1078406|\n",
      "|             19|          266961|\n",
      "|             14|          200495|\n",
      "|              1|          168740|\n",
      "|             18|          162994|\n",
      "|            114|          144054|\n",
      "+---------------+----------------+\n",
      "only showing top 6 rows\n",
      "\n"
     ]
    }
   ],
   "source": [
    "# Issuer Precinct\n",
    "IssuePrecinct = spark.sql(\"SELECT Issuer_Precinct, count(*) as Ticket_Frequency from parkingData2017 group by Issuer_Precinct order by Ticket_Frequency desc\")  \n",
    "IssuePrecinct.show(6)"
   ]
  },
  {
   "cell_type": "code",
   "execution_count": 34,
   "metadata": {},
   "outputs": [
    {
     "data": {
      "text/plain": [
       "<Figure size 432x288 with 0 Axes>"
      ]
     },
     "metadata": {},
     "output_type": "display_data"
    },
    {
     "data": {
      "image/png": "[encoded data removed]",
      "text/plain": [
       "<Figure size 432x288 with 1 Axes>"
      ]
     },
     "metadata": {},
     "output_type": "display_data"
    }
   ],
   "source": [
    "# plot Violations on the basis of Issue_Precinct\n",
    "Correct_Issuer_Precinct_plot = IssuePrecinct.toPandas()\n",
    "plt.clf()\n",
    "Correct_Issuer_Precinct_plot[Correct_Issuer_Precinct_plot.Issuer_Precinct!=0].head(5).plot(x='Issuer_Precinct', y='Ticket_Frequency', kind='bar')\n",
    "plt.title(\"Violations on the basis of Issuer Precinct TOP 5\")\n",
    "plt.xlabel('Issuer Precinct')\n",
    "plt.ylabel('Ticket Frequency')\n",
    "plt.show()"
   ]
  },
  {
   "cell_type": "markdown",
   "metadata": {},
   "source": [
    "Corerct Issuer Precinct are : 19,14,1,18,114"
   ]
  },
  {
   "cell_type": "markdown",
   "metadata": {},
   "source": [
    "Q 4. Find the violation code frequencies for three precincts that have issued the most number of tickets. Do these precinct zones have an exceptionally high frequency of certain violation codes? Are these codes common across precincts? "
   ]
  },
  {
   "cell_type": "code",
   "execution_count": 35,
   "metadata": {},
   "outputs": [
    {
     "name": "stdout",
     "output_type": "stream",
     "text": [
      "+---------------+--------------+---------+\n",
      "|Issuer_Precinct|Violation_Code|Frequency|\n",
      "+---------------+--------------+---------+\n",
      "|             18|            14|    50148|\n",
      "|             19|            46|    48410|\n",
      "|             14|            14|    45024|\n",
      "+---------------+--------------+---------+\n",
      "only showing top 3 rows\n",
      "\n"
     ]
    }
   ],
   "source": [
    "# Violitions\n",
    "violation_code_freq = spark.sql(\"select Issuer_Precinct,Violation_Code, count(*) as Frequency from parkingData2017 where Issuer_Precinct != 0 and Violation_Precinct !=0 group by Issuer_Precinct, Violation_Code order by Frequency desc\" )\n",
    "violation_code_freq.show(3)"
   ]
  },
  {
   "cell_type": "code",
   "execution_count": 36,
   "metadata": {},
   "outputs": [
    {
     "name": "stdout",
     "output_type": "stream",
     "text": [
      "+--------------+---------+\n",
      "|Violation_Code|Frequency|\n",
      "+--------------+---------+\n",
      "|            14|    50150|\n",
      "|            69|    20189|\n",
      "|            47|    14107|\n",
      "|            31|    11893|\n",
      "|            46|     7863|\n",
      "+--------------+---------+\n",
      "only showing top 5 rows\n",
      "\n"
     ]
    }
   ],
   "source": [
    "# Issuer_Precinct = 18\n",
    "spark.sql(\"select Violation_Code, count(*) as Frequency from parkingData2017 where Issuer_Precinct = 18 group by Violation_Code order by Frequency desc\").show(5)"
   ]
  },
  {
   "cell_type": "code",
   "execution_count": 37,
   "metadata": {},
   "outputs": [
    {
     "name": "stdout",
     "output_type": "stream",
     "text": [
      "+--------------+---------+\n",
      "|Violation_Code|Frequency|\n",
      "+--------------+---------+\n",
      "|            46|    48445|\n",
      "|            38|    36386|\n",
      "|            37|    36056|\n",
      "|            14|    29797|\n",
      "|            21|    28415|\n",
      "+--------------+---------+\n",
      "only showing top 5 rows\n",
      "\n"
     ]
    }
   ],
   "source": [
    "# Issuer_Precinct  = 19\n",
    "spark.sql(\"select Violation_Code, count(*) as Frequency from parkingData2017 where Issuer_Precinct  = 19 group by Violation_Code order by Frequency desc\").show(5)"
   ]
  },
  {
   "cell_type": "code",
   "execution_count": 38,
   "metadata": {},
   "outputs": [
    {
     "name": "stdout",
     "output_type": "stream",
     "text": [
      "+--------------+---------+\n",
      "|Violation_Code|Frequency|\n",
      "+--------------+---------+\n",
      "|            14|    45036|\n",
      "|            69|    30464|\n",
      "|            31|    22555|\n",
      "|            47|    18364|\n",
      "|            42|    10027|\n",
      "+--------------+---------+\n",
      "only showing top 5 rows\n",
      "\n"
     ]
    }
   ],
   "source": [
    "# Issuer_Precinct = 14\n",
    "spark.sql(\"select Violation_Code, count(*) as Frequency from parkingData2017 where Issuer_Precinct = 14 group by Violation_Code order by Frequency desc\").show(5)"
   ]
  },
  {
   "cell_type": "code",
   "execution_count": 39,
   "metadata": {},
   "outputs": [
    {
     "name": "stdout",
     "output_type": "stream",
     "text": [
      "+--------------+---------+\n",
      "|Violation_Code|Frequency|\n",
      "+--------------+---------+\n",
      "|            14|   124983|\n",
      "|            46|    63987|\n",
      "|            69|    53563|\n",
      "|            38|    45831|\n",
      "|            37|    39548|\n",
      "+--------------+---------+\n",
      "only showing top 5 rows\n",
      "\n"
     ]
    }
   ],
   "source": [
    "# Common Violations\n",
    "spark.sql(\"select Violation_Code, count(*) as Frequency from parkingData2017 where Issuer_Precinct in (18,19,14) group by Violation_Code order by Frequency desc\").show(5)"
   ]
  },
  {
   "cell_type": "markdown",
   "metadata": {},
   "source": [
    "Precinct 18 and 14 has less similar top violation code. But 19 has very different top violation code."
   ]
  },
  {
   "cell_type": "markdown",
   "metadata": {},
   "source": [
    "Q5. Find out the properties of parking violations across different times of the day"
   ]
  },
  {
   "cell_type": "code",
   "execution_count": 40,
   "metadata": {},
   "outputs": [
    {
     "name": "stdout",
     "output_type": "stream",
     "text": [
      "+------------------+\n",
      "|No_of_Count_Values|\n",
      "+------------------+\n",
      "|                 0|\n",
      "+------------------+\n",
      "\n"
     ]
    }
   ],
   "source": [
    "# Check null\n",
    "spark.sql(\"SELECT count(*) as No_of_Count_Values from parkingData2017 WHERE Violation_Time is NULL\").show()"
   ]
  },
  {
   "cell_type": "code",
   "execution_count": 41,
   "metadata": {},
   "outputs": [
    {
     "name": "stdout",
     "output_type": "stream",
     "text": [
      "+--------------+--------+------------------+----------+--------------+-----------------+------------+------------------+---------------+--------------+\n",
      "|Summons_Number|Plate_ID|Registration_State|Issue_Date|Violation_Code|Vehicle_Body_Type|Vehicle_Make|Violation_Precinct|Issuer_Precinct|Violation_Time|\n",
      "+--------------+--------+------------------+----------+--------------+-----------------+------------+------------------+---------------+--------------+\n",
      "+--------------+--------+------------------+----------+--------------+-----------------+------------+------------------+---------------+--------------+\n",
      "\n"
     ]
    }
   ],
   "source": [
    "# print null cols\n",
    "parking_data.where(col(\"Violation_Time\").isNull()).show()"
   ]
  },
  {
   "cell_type": "code",
   "execution_count": 42,
   "metadata": {},
   "outputs": [
    {
     "name": "stdout",
     "output_type": "stream",
     "text": [
      "+--------------+--------------+--------------+---------------+------------------+\n",
      "|Summons_Number|Violation_Code|Violation_Time|Issuer_Precinct|Violation_Time_bin|\n",
      "+--------------+--------------+--------------+---------------+------------------+\n",
      "|    8509712827|            53|         1109A|              5|                 3|\n",
      "|    8550208723|            10|         1104A|             61|                 3|\n",
      "|    7006744659|            14|         1157A|            109|                 3|\n",
      "|    4634345766|            36|         0127P|              0|                 4|\n",
      "|    7494851008|            14|         0431P|            109|                 5|\n",
      "|    8480419428|            84|         1006A|             17|                 3|\n",
      "|    8483083346|            69|         0858A|             17|                 3|\n",
      "|    5095638253|             7|         0640A|              0|                 2|\n",
      "|    8505270850|            37|         1227P|              9|                 4|\n",
      "|    8505962758|            14|         0348P|              1|                 4|\n",
      "|    8493166273|            38|         0903P|             24|                 6|\n",
      "|    5094986600|             7|         0952P|              0|                 6|\n",
      "|    8460533542|            24|         0503P|            112|                 5|\n",
      "|    8508412794|            37|         0554P|              6|                 5|\n",
      "|    4631560400|            36|         0140P|              0|                 4|\n",
      "|    4635136050|            36|         1044A|              0|                 3|\n",
      "|    7131186910|            37|         0202P|             62|                 4|\n",
      "|    4633672940|            36|         0223P|              0|                 4|\n",
      "|    8479024744|            38|         1112A|             13|                 3|\n",
      "|    8565003140|            21|         0744A|            104|                 2|\n",
      "+--------------+--------------+--------------+---------------+------------------+\n",
      "only showing top 20 rows\n",
      "\n"
     ]
    }
   ],
   "source": [
    "# Divide 24 hours into six equal discrete bins of time.\n",
    "parkingDataBins=spark.sql(\"SELECT Summons_Number, Violation_Code , Violation_Time, Issuer_Precinct, case when substring(Violation_Time,1,2) in ('00','01','02','03','12') and upper(substring(Violation_Time,-1))='A' then 1 when substring(Violation_Time,1,2) in ('04','05','06','07') and upper(substring(Violation_Time,-1))='A' then 2 when substring(Violation_Time,1,2) in ('08','09','10','11') and upper(substring(Violation_Time,-1))='A' then 3 when substring(Violation_Time,1,2) in ('12','00','01','02','03') and upper(substring(Violation_Time,-1))='P' then 4 when substring(Violation_Time,1,2) in ('04','05','06','07') and upper(substring(Violation_Time,-1))='P' then 5 when substring(Violation_Time,1,2) in ('08','09','10','11') and upper(substring(Violation_Time,-1))='P' then 6 else null end as Violation_Time_bin from parkingData2017 where Violation_Time is not null or (length(Violation_Time)=5 and upper(substring(Violation_Time,-1)) in ('A','P') and substring(Violation_Time,1,2) in ('00','01','02','03','04','05','06','07', '08','09','10','11','12'))\")\n",
    "parkingDataBins.show()"
   ]
  },
  {
   "cell_type": "code",
   "execution_count": 43,
   "metadata": {},
   "outputs": [],
   "source": [
    "parkingDataBins.createOrReplaceTempView(\"parkingData2017Bin\")"
   ]
  },
  {
   "cell_type": "markdown",
   "metadata": {},
   "source": [
    "Bin       Time Interval \n",
    "1         12:00 AM to 4:00 AM\n",
    "2         4:00 AM to 8:00 AM\n",
    "3         8:00 AM to 12:00 PM\n",
    "4         12:00 PM to 4:00 PM\n",
    "5         4:00 PM to 8:00 PM\n",
    "6         8:00 PM to 12:00 AM"
   ]
  },
  {
   "cell_type": "code",
   "execution_count": 44,
   "metadata": {},
   "outputs": [
    {
     "name": "stdout",
     "output_type": "stream",
     "text": [
      "+--------------+------------------+------+\n",
      "|Violation_Code|Violation_Time_bin| count|\n",
      "+--------------+------------------+------+\n",
      "|            71|                 4|103231|\n",
      "|            92|                 2|     1|\n",
      "|            10|                 2|  3164|\n",
      "|            62|                 1|   278|\n",
      "|            41|                 3|   954|\n",
      "|            23|                 6|   691|\n",
      "|            48|                 6|   620|\n",
      "|            69|                 1|     1|\n",
      "|            16|                 3| 28176|\n",
      "|            17|                 2|  4278|\n",
      "|            17|                 1|   996|\n",
      "|            83|                 6|   252|\n",
      "|            91|                 6|    35|\n",
      "|            34|                 5|     1|\n",
      "|            73|                 4|   738|\n",
      "|            45|                 4|  1224|\n",
      "|            79|                 1|    21|\n",
      "|            58|                 1|     3|\n",
      "|            80|                 3|   890|\n",
      "|             6|                 1|    88|\n",
      "+--------------+------------------+------+\n",
      "only showing top 20 rows\n",
      "\n"
     ]
    }
   ],
   "source": [
    "# violation time count\n",
    "spark.sql(\"SELECT Violation_Code,Violation_Time_bin, count(*) count from parkingData2017Bin group by Violation_Code,Violation_Time_bin\").show()"
   ]
  },
  {
   "cell_type": "code",
   "execution_count": 45,
   "metadata": {},
   "outputs": [
    {
     "name": "stdout",
     "output_type": "stream",
     "text": [
      "+--------------+-------+\n",
      "|Violation_Code|Vio_cnt|\n",
      "+--------------+-------+\n",
      "|            21|  36957|\n",
      "|            40|  25866|\n",
      "|            78|  15528|\n",
      "+--------------+-------+\n",
      "only showing top 3 rows\n",
      "\n"
     ]
    }
   ],
   "source": [
    "# Bin_1\n",
    "spark.sql(\"select Violation_Code,count(*) Vio_cnt from parkingData2017Bin where Violation_Time_bin == 1 group by Violation_Code order by Vio_cnt desc\").show(3)"
   ]
  },
  {
   "cell_type": "code",
   "execution_count": 46,
   "metadata": {},
   "outputs": [
    {
     "name": "stdout",
     "output_type": "stream",
     "text": [
      "+--------------+-------+\n",
      "|Violation_Code|Vio_cnt|\n",
      "+--------------+-------+\n",
      "|            14|  74114|\n",
      "|            40|  60652|\n",
      "|            21|  57897|\n",
      "+--------------+-------+\n",
      "only showing top 3 rows\n",
      "\n"
     ]
    }
   ],
   "source": [
    "# Bin_2\n",
    "spark.sql(\"select Violation_Code,count(*) Vio_cnt from parkingData2017Bin where Violation_Time_bin == 2 group by Violation_Code order by Vio_cnt desc\").show(3)"
   ]
  },
  {
   "cell_type": "code",
   "execution_count": 47,
   "metadata": {},
   "outputs": [
    {
     "name": "stdout",
     "output_type": "stream",
     "text": [
      "+--------------+-------+\n",
      "|Violation_Code|Vio_cnt|\n",
      "+--------------+-------+\n",
      "|            21| 598069|\n",
      "|            36| 348165|\n",
      "|            38| 176570|\n",
      "+--------------+-------+\n",
      "only showing top 3 rows\n",
      "\n"
     ]
    }
   ],
   "source": [
    "# Bin_3\n",
    "spark.sql(\"select Violation_Code,count(*) Vio_cnt from parkingData2017Bin where Violation_Time_bin == 3 group by Violation_Code order by Vio_cnt desc\").show(3)"
   ]
  },
  {
   "cell_type": "code",
   "execution_count": 48,
   "metadata": {},
   "outputs": [
    {
     "name": "stdout",
     "output_type": "stream",
     "text": [
      "+--------------+-------+\n",
      "|Violation_Code|Vio_cnt|\n",
      "+--------------+-------+\n",
      "|            36| 286284|\n",
      "|            38| 240721|\n",
      "|            37| 167026|\n",
      "+--------------+-------+\n",
      "only showing top 3 rows\n",
      "\n"
     ]
    }
   ],
   "source": [
    "# Bin_4\n",
    "spark.sql(\"select Violation_Code,count(*) Vio_cnt from parkingData2017Bin where Violation_Time_bin == 4 group by Violation_Code order by Vio_cnt desc\").show(3)"
   ]
  },
  {
   "cell_type": "code",
   "execution_count": 49,
   "metadata": {},
   "outputs": [
    {
     "name": "stdout",
     "output_type": "stream",
     "text": [
      "+--------------+-------+\n",
      "|Violation_Code|Vio_cnt|\n",
      "+--------------+-------+\n",
      "|            38| 102855|\n",
      "|            14|  75902|\n",
      "|            37|  70345|\n",
      "+--------------+-------+\n",
      "only showing top 3 rows\n",
      "\n"
     ]
    }
   ],
   "source": [
    "# Bin_5\n",
    "spark.sql(\"select Violation_Code,count(*) Vio_cnt from parkingData2017Bin where Violation_Time_bin == 5 group by Violation_Code order by Vio_cnt desc\").show(3)"
   ]
  },
  {
   "cell_type": "code",
   "execution_count": 50,
   "metadata": {},
   "outputs": [
    {
     "name": "stdout",
     "output_type": "stream",
     "text": [
      "+--------------+-------+\n",
      "|Violation_Code|Vio_cnt|\n",
      "+--------------+-------+\n",
      "|             7|  26293|\n",
      "|            40|  22337|\n",
      "|            14|  21045|\n",
      "+--------------+-------+\n",
      "only showing top 3 rows\n",
      "\n"
     ]
    }
   ],
   "source": [
    "# Bin_6\n",
    "spark.sql(\"select Violation_Code,count(*) Vio_cnt from parkingData2017Bin where Violation_Time_bin == 6 group by Violation_Code order by Vio_cnt desc\").show(3)"
   ]
  },
  {
   "cell_type": "markdown",
   "metadata": {},
   "source": [
    "Now, try another direction. For the three most commonly occurring violation codes, find the most common time of the day (in terms of the bins from the previous part)."
   ]
  },
  {
   "cell_type": "code",
   "execution_count": 51,
   "metadata": {},
   "outputs": [
    {
     "name": "stdout",
     "output_type": "stream",
     "text": [
      "+------------------+---------+\n",
      "|Violation_Time_bin|Vio_count|\n",
      "+------------------+---------+\n",
      "|                 3|  1122804|\n",
      "|                 4|   601700|\n",
      "|                 5|   116648|\n",
      "+------------------+---------+\n",
      "only showing top 3 rows\n",
      "\n"
     ]
    }
   ],
   "source": [
    "spark.sql(\"select Violation_Time_bin, count(*) Vio_count from parkingData2017Bin where Violation_Code in (21, 36, 38) group by Violation_Time_bin order by Vio_count desc\").show(3)"
   ]
  },
  {
   "cell_type": "markdown",
   "metadata": {},
   "source": [
    "Bins 3, 4, 5 are have most violations. In day time significantly more vehicles are running and hence more violations."
   ]
  },
  {
   "cell_type": "markdown",
   "metadata": {},
   "source": [
    "Q6. Let’s try and find some seasonality in this data:"
   ]
  },
  {
   "cell_type": "code",
   "execution_count": 52,
   "metadata": {},
   "outputs": [
    {
     "name": "stdout",
     "output_type": "stream",
     "text": [
      "+--------------+---------------+------+\n",
      "|Violation_Code|Issuer_Precinct|season|\n",
      "+--------------+---------------+------+\n",
      "|            36|              0|summer|\n",
      "|            36|              0|summer|\n",
      "|            48|             78|spring|\n",
      "|            71|             72|spring|\n",
      "|            14|            112|spring|\n",
      "|            71|             67|summer|\n",
      "|            42|              1|winter|\n",
      "|            14|             63|winter|\n",
      "|            36|              0|spring|\n",
      "|            46|             71|summer|\n",
      "|            71|             66|winter|\n",
      "|            14|             84|summer|\n",
      "|            40|             23|spring|\n",
      "|            37|            977|spring|\n",
      "|            20|            114|spring|\n",
      "|            31|             13|summer|\n",
      "|            21|             42|spring|\n",
      "|             7|              0|spring|\n",
      "|            37|             19|winter|\n",
      "|            37|            106|spring|\n",
      "+--------------+---------------+------+\n",
      "only showing top 20 rows\n",
      "\n"
     ]
    }
   ],
   "source": [
    "# First, divide the year into some number of seasons,and find frequencies of tickets for each season\n",
    "VTicketsSeason = spark.sql(\"select Violation_Code , Issuer_Precinct, case when MONTH(TO_DATE(Issue_Date, 'MM/dd/yyyy')) between 03 and 05 then 'spring' when MONTH(TO_DATE(Issue_Date, 'MM/dd/yyyy')) between 06 and 08 then 'summer' when MONTH(TO_DATE(Issue_Date, 'MM/dd/yyyy')) between 09 and 11 then 'autumn' when MONTH(TO_DATE(Issue_Date, 'MM/dd/yyyy')) in (1,2,12) then 'winter' else 'unknown' end  as season from parkingData2017\")\n",
    "VTicketsSeason.show()"
   ]
  },
  {
   "cell_type": "code",
   "execution_count": 53,
   "metadata": {},
   "outputs": [],
   "source": [
    "VTicketsSeason.createOrReplaceTempView(\"parkingData2017Seasons\")"
   ]
  },
  {
   "cell_type": "markdown",
   "metadata": {},
   "source": [
    "Season    Month intervall\n",
    "\n",
    "spring    March, April, May\n",
    "summer    June, July, August\n",
    "autumn    September, October, November\n",
    "winter    December, January, February"
   ]
  },
  {
   "cell_type": "code",
   "execution_count": 54,
   "metadata": {},
   "outputs": [
    {
     "name": "stdout",
     "output_type": "stream",
     "text": [
      "+------+-------------+\n",
      "|season|no_of_tickets|\n",
      "+------+-------------+\n",
      "|spring|      2873383|\n",
      "|winter|      1704690|\n",
      "|summer|       852866|\n",
      "|autumn|          979|\n",
      "+------+-------------+\n",
      "\n"
     ]
    }
   ],
   "source": [
    "parkingTicketSeasonsFrequency = spark.sql(\"select season, count(*) as no_of_tickets from parkingData2017Seasons group by 1 order by 2 desc\")\n",
    "parkingTicketSeasonsFrequency.show()"
   ]
  },
  {
   "cell_type": "code",
   "execution_count": 55,
   "metadata": {},
   "outputs": [
    {
     "name": "stdout",
     "output_type": "stream",
     "text": [
      "+--------------+---------+\n",
      "|Violation_Code|Frequency|\n",
      "+--------------+---------+\n",
      "|            14|    24458|\n",
      "|            46|    12637|\n",
      "|            38|    11897|\n",
      "+--------------+---------+\n",
      "only showing top 3 rows\n",
      "\n"
     ]
    }
   ],
   "source": [
    "# Spring season\n",
    "spark.sql(\"select Violation_Code, count(*) as Frequency from parkingData2017Seasons where Issuer_Precinct in (20, 15, 1) and season = 'spring' group by Violation_Code order by Frequency desc\" ).show(3)"
   ]
  },
  {
   "cell_type": "code",
   "execution_count": 56,
   "metadata": {},
   "outputs": [
    {
     "name": "stdout",
     "output_type": "stream",
     "text": [
      "+--------------+---------+\n",
      "|Violation_Code|Frequency|\n",
      "+--------------+---------+\n",
      "|            14|     7025|\n",
      "|            20|     5798|\n",
      "|            46|     3981|\n",
      "+--------------+---------+\n",
      "only showing top 3 rows\n",
      "\n"
     ]
    }
   ],
   "source": [
    "# Summer season\n",
    "spark.sql(\"select Violation_Code, count(*) as Frequency from parkingData2017Seasons where Issuer_Precinct in (20, 15, 1) and season = 'summer' group by Violation_Code order by Frequency desc\" ).show(3)"
   ]
  },
  {
   "cell_type": "code",
   "execution_count": 57,
   "metadata": {},
   "outputs": [
    {
     "name": "stdout",
     "output_type": "stream",
     "text": [
      "+--------------+---------+\n",
      "|Violation_Code|Frequency|\n",
      "+--------------+---------+\n",
      "|            46|        5|\n",
      "|            14|        4|\n",
      "|            78|        3|\n",
      "+--------------+---------+\n",
      "only showing top 3 rows\n",
      "\n"
     ]
    }
   ],
   "source": [
    "# Autumn season\n",
    "spark.sql(\"select Violation_Code, count(*) as Frequency from parkingData2017Seasons where Issuer_Precinct in (20, 15, 1) and season = 'autumn' group by Violation_Code order by Frequency desc\" ).show(3)"
   ]
  },
  {
   "cell_type": "code",
   "execution_count": 58,
   "metadata": {},
   "outputs": [
    {
     "name": "stdout",
     "output_type": "stream",
     "text": [
      "+--------------+---------+\n",
      "|Violation_Code|Frequency|\n",
      "+--------------+---------+\n",
      "|            14|    14122|\n",
      "|            38|     7142|\n",
      "|            16|     7129|\n",
      "+--------------+---------+\n",
      "only showing top 3 rows\n",
      "\n"
     ]
    }
   ],
   "source": [
    "# Winter season\n",
    "spark.sql(\"select Violation_Code, count(*) as Frequency from parkingData2017Seasons where Issuer_Precinct in (20, 15, 1) and season = 'winter' group by Violation_Code order by Frequency desc\" ).show(3)"
   ]
  },
  {
   "cell_type": "markdown",
   "metadata": {},
   "source": [
    "Q7. The fines collected from all the instances of parking violation constitute a source of revenue for the NYC Police Department. Let’s take an example of estimating this for the three most commonly occurring codes:"
   ]
  },
  {
   "cell_type": "code",
   "execution_count": 59,
   "metadata": {},
   "outputs": [
    {
     "name": "stdout",
     "output_type": "stream",
     "text": [
      "+--------------+---------+\n",
      "|Violation_Code|Frequency|\n",
      "+--------------+---------+\n",
      "|            21|   768087|\n",
      "|            36|   662765|\n",
      "|            38|   542079|\n",
      "+--------------+---------+\n",
      "only showing top 3 rows\n",
      "\n"
     ]
    }
   ],
   "source": [
    "# Find total occurrences of the three most common violation codes\n",
    "CommonViolation = spark.sql(\"select Violation_Code, count(*) as Frequency from parkingData2017 group by Violation_Code order by Frequency desc\")\n",
    "CommonViolation.show(3)"
   ]
  },
  {
   "cell_type": "code",
   "execution_count": 60,
   "metadata": {},
   "outputs": [
    {
     "name": "stdout",
     "output_type": "stream",
     "text": [
      "+--------------+---------+--------+\n",
      "|Violation_Code|Frequency|    fine|\n",
      "+--------------+---------+--------+\n",
      "|            21|   768087|38404350|\n",
      "|            36|   662765|36452075|\n",
      "|            38|   542079|29814345|\n",
      "+--------------+---------+--------+\n",
      "only showing top 3 rows\n",
      "\n",
      "Total collection = $ 105197380\n"
     ]
    }
   ],
   "source": [
    "# find the total amount collected for the three violation codes with the maximum tickets. State the code that has the highest total collection.\n",
    "CommonViolation.withColumn(\"fine\",when(CommonViolation.Violation_Code == 21, (CommonViolation.Frequency) *50).otherwise((CommonViolation.Frequency)*55)).show(3)\n",
    "print('Total collection = $',768087*55+662765*50+542079*55)"
   ]
  },
  {
   "cell_type": "markdown",
   "metadata": {},
   "source": [
    "Code 21 (Street Cleaning: No parking where parking is not allowed by sign, street marking or traffic control device) \n",
    "had the highest collection."
   ]
  },
  {
   "cell_type": "markdown",
   "metadata": {},
   "source": [
    "What can you intuitively infer from these findings?\n",
    "1. Major violation are in Jan to June but they drop in months from July to Dec.\n",
    "2. Highest violation & fine collection was collected under Code 21 ie. No parking where parking is not allowed by sign, street marking or traffic control device."
   ]
  },
  {
   "cell_type": "code",
   "execution_count": 61,
   "metadata": {},
   "outputs": [],
   "source": [
    "spark.stop()"
   ]
  }
 ],
 "metadata": {
  "kernelspec": {
   "display_name": "PySpark",
   "language": "python",
   "name": "pyspark"
  },
  "language_info": {
   "codemirror_mode": {
    "name": "ipython",
    "version": 3
   },
   "file_extension": ".py",
   "mimetype": "text/x-python",
   "name": "python",
   "nbconvert_exporter": "python",
   "pygments_lexer": "ipython3",
   "version": "3.6.5"
  }
 },
 "nbformat": 4,
 "nbformat_minor": 2
}
